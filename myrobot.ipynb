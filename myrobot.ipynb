{
 "cells": [
  {
   "cell_type": "code",
   "execution_count": 230,
   "metadata": {},
   "outputs": [],
   "source": [
    "import numpy as np\n",
    "import scipy.optimize \n",
    "import copy\n",
    "\n",
    "class MyRobot():\n",
    "    \n",
    "    def __init__(self,kinematic_chain, mass, joint_limits):\n",
    "        self.tool=[]\n",
    "        self.world_frame=np.eye(4)\n",
    "        self.home_position=np.array([0,0,0,0,0,0])\n",
    "        self.joints=kinematic_chain[:,2]\n",
    "        self.pastjoints=self.joints\n",
    "        self.joint_limits=np.deg2rad(joint_limits)\n",
    "        self.kinematic_chain=kinematic_chain\n",
    "        self.mass=mass[0,:]\n",
    "        self.com=mass[1:7,0:3]\n",
    "        self.wrench=[]\n",
    "        self.dof=len(kinematic_chain)\n",
    "    \n",
    "    def __len__(self):\n",
    "        return self.dof\n",
    "    \n",
    "   \n",
    "    def transform(self,alpha,a,theta,d):\n",
    "        \n",
    "        sinalpha=np.sin(alpha)\n",
    "        cosalpha=np.cos(alpha)\n",
    "        sintheta=np.sin(theta)\n",
    "        costheta=np.cos(theta)\n",
    "        t=np.array(\n",
    "            [\n",
    "                [costheta, -sintheta, 0, a],\n",
    "                [sintheta*cosalpha, costheta*cosalpha, -sinalpha, -sinalpha*d],\n",
    "                [sintheta*sinalpha, costheta*sinalpha, cosalpha, cosalpha*d],\n",
    "                [0, 0, 0, 1],\n",
    "            \n",
    "            ]\n",
    "          )\n",
    "        \n",
    "        return t\n",
    "    \n",
    "    def invtransform(self, alpha,a,theta,d):\n",
    "        \n",
    "        sinalpha=np.sin(alpha)\n",
    "        cosalpha=np.cos(alpha)\n",
    "        sintheta=np.sin(theta)\n",
    "        costheta=np.cos(theta)\n",
    "        r=np.array(\n",
    "            [\n",
    "                [costheta, -sintheta, 0],\n",
    "                [sintheta*cosalpha, costheta*cosalpha, -sinalpha],\n",
    "                [sintheta*sinalpha, costheta*sinalpha, cosalpha],\n",
    "            ]\n",
    "        )\n",
    "        \n",
    "        t=np.array(\n",
    "            [\n",
    "                [a],\n",
    "                [-sinalpha*d],\n",
    "                [cosalpha*d],\n",
    "            ]\n",
    "        )\n",
    "        \n",
    "        invt=np.concatenate((r.T,-np.dot(r.T,t)),axis=1)\n",
    "        invt=np.concatenate((invt,[[0,0,0,1]]),axis=0)\n",
    "        \n",
    "        return invt\n",
    "    \n",
    "    \n",
    "    def random_joints(self,no_output=False):\n",
    "        #if output is true output random value \n",
    "        #by default the method output the random joints value\n",
    "        #if don't want any out put, give the argument no_output=1\n",
    "        q=np.random.uniform(low=self.joint_limits[0], high=self.joint_limits[1])\n",
    "        if no_output:\n",
    "            self.joints=q\n",
    "            return None\n",
    "        else :\n",
    "            return q\n",
    "\n",
    "    def g_i(self,i):\n",
    "        g_b=np.array([0,0,-9.81,0])\n",
    "        t=np.eye(4)\n",
    "        for j in range(i):\n",
    "            alpha=self.kinematic_chain[i,0]\n",
    "            a=self.kinematic_chain[i,1]\n",
    "            theta=self.joints[i]\n",
    "            d=self.kinematic_chain[i,3]\n",
    "            t=np.dot(self.invtransform(alpha,a,theta,d),t)\n",
    "        g_i=np.dot(t,g_b)\n",
    "        return g_i\n",
    "    \n",
    "    def get_torque(self,wrench):\n",
    "        Moment=np.zeros((6,3))\n",
    "        Force=np.zeros((6,3))\n",
    "        force=np.array(wrench[:3])\n",
    "        moment=np.array(wrench[-3:])\n",
    "        m=self.mass\n",
    "        com=self.com\n",
    "        g_b=np.array([0,0,-9.81,0]); #gravity in world coordinate \n",
    "        M=np.zeros((7,7,3))\n",
    "        F=np.zeros((7,7,3))\n",
    "        M_g=np.zeros((7,7,3))\n",
    "        for i in range(5,-1,-1):\n",
    "            \n",
    "            g_i=self.g_i(i)[:3]\n",
    "            alpha=self.kinematic_chain[i,0]\n",
    "            a=self.kinematic_chain[i,1]\n",
    "            theta=self.joints[i]\n",
    "            d=self.kinematic_chain[i,3]\n",
    "            transform=self.transform(alpha,a,theta,d)\n",
    "            rotation=transform[:3,:3]\n",
    "            if i==5:\n",
    "                F[i+1,i+1]=force\n",
    "                M[i,i+1]=moment\n",
    "                F[i,i]=m[i]*g_i+F[i+1,i+1]\n",
    "            else:\n",
    "                F[i,i]=m[i]*g_i+np.dot(rotation,F[i+1,i+1]).T\n",
    "                M[i,i+1]=np.dot(rotation,M[i+1,i+1])+np.cross(com[i],np.dot(rotation,F[i+1,i+1]))\n",
    "            M_g[i,i]=m[i]*np.cross(self.com[i],g_i)\n",
    "            M[i,i]=M_g[i,i]+M[i,i+1]\n",
    "            \n",
    "            Moment[i]=M[i,i]\n",
    "            Force[i]=F[i,i]\n",
    "        \n",
    "        return Moment[:,2] #only return the torque in the direction of the z axis\n",
    "   \n",
    "    def matrix(self,q):\n",
    "        \n",
    "        t_world=np.eye(4)\n",
    "        t=[]\n",
    "        for i in range(len(self)):\n",
    "            alpha=self.kinematic_chain[i,0]\n",
    "            a=self.kinematic_chain[i,1]\n",
    "            theta=q[i]\n",
    "            d=self.kinematic_chain[i,3]\n",
    "            t.append(self.transform(alpha,a,theta,d))\n",
    "            \n",
    "        t_tool=np.eye(4) \n",
    "            \n",
    "        return t    \n",
    "\n",
    "   \n",
    "    def dq(self,q):\n",
    "        #only include joint compliance caused by joint stiffness and torque\n",
    "        torque=self.get_torque(self.wrench)\n",
    "        #define joint stiffness value \n",
    "        stiffness=np.array([0.0005,0.0005,0.0005,0.0005,0.0005,0.0005]) \n",
    "        #calculate joint compliance based on linear model:\n",
    "        # delta_q=stiffness*torque\n",
    "        delta_q= torque*stiffness\n",
    "        return delta_q\n",
    "    \n",
    "    \n",
    "\n",
    "    def fk(self,q):\n",
    "        \n",
    "        q=q+self.dq(q)\n",
    "        self.pastjoints=self.joints\n",
    "        self.joints=q\n",
    "        #q=np.deg2rad(q)\n",
    "        t=np.eye(4)\n",
    "        for i in range(len(self)):\n",
    "            t=np.dot(t,self.matrix(q)[i])\n",
    "        return t\n",
    "        \n",
    "    \n",
    "    def ik(self,pose):\n",
    "        x0 = self.joints\n",
    "        result = scipy.optimize.least_squares(\n",
    "            fun=ik_cost_function, x0=x0, bounds=self.joint_limits, args=(pose,self)\n",
    "        )  # type: scipy.optimize.OptimizeResult\n",
    "\n",
    "        if result.success:  \n",
    "            actual_pose = self.fk(result.x)\n",
    "            if np.allclose(actual_pose, pose, atol=1e-1):\n",
    "                return result.x\n",
    "        return None\n",
    "    \n",
    "     \n",
    "    \n",
    "    @classmethod\n",
    "    def importrobot(cls, dhparameters,massparameters,jointlimits):\n",
    "        \"\"\"Construct Robot from parameters.\"\"\"\n",
    "        return cls(kinematic_chain=dhparameters,mass=massparameters,joint_limits=jointlimits)\n",
    "    \n",
    "def ik_cost_function(q,pose,robot):\n",
    "        actual_pose=robot.fk(q)\n",
    "        diff=np.abs(actual_pose-pose)\n",
    "        #fun must return at most 1-d array_like.\n",
    "        return diff.ravel()\n",
    "\n",
    "    \n"
   ]
  },
  {
   "cell_type": "markdown",
   "metadata": {},
   "source": [
    "Define Robot kinematic chain, joint limits, mass& center of mass"
   ]
  },
  {
   "cell_type": "code",
   "execution_count": 231,
   "metadata": {},
   "outputs": [],
   "source": [
    "def kuka_90_R3100()-> np.ndarray:\n",
    "    return np.array(\n",
    "        [ # alpha, a, theta, d\n",
    "            [0, 0, 0, 0.675],\n",
    "            [np.pi/2, 0.35, 0, 0],\n",
    "            [0, 1.35, 0, 0],\n",
    "            [-np.pi/2, -0.041, 0, 1.4],\n",
    "            [np.pi/2, 0, 0, 0],\n",
    "            [-np.pi/2, 0, 0, 0.215],\n",
    "        ]\n",
    "    )\n",
    "\n",
    "def kuka_90_R3100_mass():\n",
    "    \n",
    "    return np.array(\n",
    "        [\n",
    "            [15,10,10,6,3,1], #mass of link 1 to 6\n",
    "            [0.3,0.1,0.1,0,0,0], #center of mass of link1\n",
    "            [0.2,0.1,0.1,0,0,0], #center of mass of link2\n",
    "            [0.3,0.3,0.1,0,0,0], #center of mass of link3\n",
    "            [0.1,0.2,0.1,0,0,0], #center of mass of link4\n",
    "            [0.1,0.3,0.1,0,0,0], #center of mass of link5\n",
    "            [0.1,0.2,0.1,0,0,0], #center of mass of link6\n",
    "        ]\n",
    "    )\n",
    "\n",
    "def kuka_90_R3100_joint_limits():\n",
    "    return np.array(\n",
    "        [\n",
    "            #lower bound must smaller than upper bound \n",
    "            [0,0,0,0,0,0], #lower bound for joints 1 to 6\n",
    "            [180,70,80,100,160,360], #upper bound for joints 1 to 6\n",
    "            \n",
    "        ]\n",
    "    )"
   ]
  },
  {
   "cell_type": "markdown",
   "metadata": {},
   "source": [
    "Import robot and create MyRobot object "
   ]
  },
  {
   "cell_type": "code",
   "execution_count": 232,
   "metadata": {},
   "outputs": [],
   "source": [
    "kuka=MyRobot.importrobot(kuka_90_R3100(),kuka_90_R3100_mass(),kuka_90_R3100_joint_limits())"
   ]
  },
  {
   "cell_type": "markdown",
   "metadata": {},
   "source": [
    "Define force and torque at robot TCP"
   ]
  },
  {
   "cell_type": "code",
   "execution_count": 274,
   "metadata": {},
   "outputs": [
    {
     "name": "stdout",
     "output_type": "stream",
     "text": [
      "[ 35.08365486  32.67612479 -41.02303131  -7.39340888   2.06649408\n",
      "   0.31638808]\n"
     ]
    }
   ],
   "source": [
    "#before use fk() and ik() wrench must be defined first\n",
    "#define the external force and torque at TCP\n",
    "forces = [0, 0, 10]\n",
    "torques = [5, 0, 0]\n",
    "wrench = [*forces, *torques]\n",
    "kuka.wrench=wrench\n",
    "kuka.joints=np.deg2rad([10,10,20,30,20,120])\n",
    "print(kuka.get_torque(wrench))\n"
   ]
  },
  {
   "cell_type": "markdown",
   "metadata": {},
   "source": [
    "Joint compliance due to external wrench and robot link mass "
   ]
  },
  {
   "cell_type": "code",
   "execution_count": 234,
   "metadata": {},
   "outputs": [
    {
     "name": "stdout",
     "output_type": "stream",
     "text": [
      "[ 1.00507268  0.93610202 -1.17522328 -0.21180556  0.05920069  0.00906385]\n"
     ]
    }
   ],
   "source": [
    "dq=kuka.dq(kuka.joints)\n",
    "print(np.rad2deg(dq))"
   ]
  },
  {
   "cell_type": "markdown",
   "metadata": {},
   "source": [
    "Forward kinematic "
   ]
  },
  {
   "cell_type": "code",
   "execution_count": 237,
   "metadata": {},
   "outputs": [
    {
     "name": "stdout",
     "output_type": "stream",
     "text": [
      "[[ 0.21425196 -0.70211345 -0.6790676   0.7831344 ]\n",
      " [ 0.78936411  0.53393874 -0.30300778  0.11306174]\n",
      " [ 0.57532634 -0.47111158  0.66862058  2.26827035]\n",
      " [ 0.          0.          0.          1.        ]]\n"
     ]
    }
   ],
   "source": [
    "joints=np.deg2rad([10,10,20,30,20,20])\n",
    "pose=kuka.fk(joints)\n",
    "print(pose)"
   ]
  },
  {
   "cell_type": "markdown",
   "metadata": {},
   "source": [
    "Inverse Kinematic "
   ]
  },
  {
   "cell_type": "code",
   "execution_count": 247,
   "metadata": {},
   "outputs": [
    {
     "name": "stdout",
     "output_type": "stream",
     "text": [
      "[10.84305056 10.85059837 18.88238653 29.72471339 20.0149379  20.01370884]\n"
     ]
    }
   ],
   "source": [
    "joints=np.deg2rad([10,10,20,30,20,20])\n",
    "ik_pose=kuka.fk(joints)\n",
    "ik_joints=np.rad2deg(kuka.ik(ik_pose))\n",
    "print(ik_joints)"
   ]
  },
  {
   "cell_type": "markdown",
   "metadata": {},
   "source": [
    "\n",
    "Model verification (compare fk and ik with pybotics)\n"
   ]
  },
  {
   "cell_type": "code",
   "execution_count": 248,
   "metadata": {},
   "outputs": [],
   "source": [
    "import pybotics \n",
    "from pybotics.robot import Robot\n",
    "from pybotics.kinematic_chain import KinematicChain, MDHKinematicChain\n",
    "from pybotics.tool import Tool"
   ]
  },
  {
   "cell_type": "markdown",
   "metadata": {},
   "source": [
    "define robot objects"
   ]
  },
  {
   "cell_type": "code",
   "execution_count": 254,
   "metadata": {},
   "outputs": [],
   "source": [
    "pyrobot=Robot.from_parameters(kuka_90_R3100())\n",
    "myrobot=MyRobot.importrobot(kuka_90_R3100(),kuka_90_R3100_mass(),kuka_90_R3100_joint_limits())\n",
    "forces = [0, 0, 10]\n",
    "torques = [5, 0, 0]\n",
    "wrench = [*forces, *torques]\n",
    "myrobot.wrench=wrench"
   ]
  },
  {
   "cell_type": "markdown",
   "metadata": {},
   "source": [
    "set random joint values and perform forward kinematic "
   ]
  },
  {
   "cell_type": "code",
   "execution_count": 255,
   "metadata": {},
   "outputs": [],
   "source": [
    "low_limit=kuka_90_R3100_joint_limits()[0]\n",
    "high_limit=kuka_90_R3100_joint_limits()[1]\n",
    "position_my=[]\n",
    "position_py=[]\n",
    "joints=[]\n",
    "iksolution_my=[]\n",
    "iksolution_py=[]\n",
    "for i in range(10):\n",
    "    q=np.random.uniform(low=low_limit, high=high_limit)\n",
    "    q=np.deg2rad(q)\n",
    "    pose_pyrobot=pyrobot.fk(q)\n",
    "    pose_myrobot=myrobot.fk(q)\n",
    "    position_my.append(pose_myrobot[:-1,-1])\n",
    "    position_py.append(pose_pyrobot[:-1,-1])\n"
   ]
  },
  {
   "cell_type": "markdown",
   "metadata": {},
   "source": [
    "compare the position "
   ]
  },
  {
   "cell_type": "code",
   "execution_count": 256,
   "metadata": {},
   "outputs": [
    {
     "data": {
      "text/plain": [
       "[array([ 0.00496796, -0.11837138,  1.73893206]),\n",
       " array([3.10807785e-04, 1.05280064e-01, 1.73754353e+00]),\n",
       " array([ 0.02455711, -0.0649083 ,  1.69763712]),\n",
       " array([ 0.19728255, -0.09155968,  1.04991206]),\n",
       " array([0.2654677 , 0.18581769, 1.92866953]),\n",
       " array([0.06654076, 0.11420819, 0.59469015]),\n",
       " array([0.06430091, 0.17795404, 1.00792223]),\n",
       " array([0.08320479, 0.15643937, 1.21421097]),\n",
       " array([-0.03864577,  0.04708823,  1.38242578]),\n",
       " array([ 0.26048755, -0.07368473,  1.3856979 ])]"
      ]
     },
     "metadata": {},
     "output_type": "display_data"
    },
    {
     "data": {
      "text/plain": [
       "[array([ 0.00498778, -0.11154744,  1.71847703]),\n",
       " array([-6.03077699e-04,  1.07435445e-01,  1.70785103e+00]),\n",
       " array([ 0.02658401, -0.0565085 ,  1.68170163]),\n",
       " array([ 0.20679865, -0.08991946,  1.03586367]),\n",
       " array([0.27060271, 0.18328669, 1.92314591]),\n",
       " array([0.06557797, 0.1337877 , 0.58365468]),\n",
       " array([0.06323873, 0.19066282, 0.98435836]),\n",
       " array([0.07487726, 0.15635038, 1.20218816]),\n",
       " array([-0.04336143,  0.04875431,  1.37258994]),\n",
       " array([ 0.24833568, -0.06701976,  1.37190624])]"
      ]
     },
     "metadata": {},
     "output_type": "display_data"
    }
   ],
   "source": [
    "display(position_my)\n",
    "display(position_py)"
   ]
  }
 ],
 "metadata": {
  "kernelspec": {
   "display_name": "Python 3",
   "language": "python",
   "name": "python3"
  },
  "language_info": {
   "codemirror_mode": {
    "name": "ipython",
    "version": 3
   },
   "file_extension": ".py",
   "mimetype": "text/x-python",
   "name": "python",
   "nbconvert_exporter": "python",
   "pygments_lexer": "ipython3",
   "version": "3.8.5"
  }
 },
 "nbformat": 4,
 "nbformat_minor": 4
}
