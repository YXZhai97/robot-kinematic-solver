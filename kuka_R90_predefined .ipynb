{
 "cells": [
  {
   "cell_type": "code",
   "execution_count": 1,
   "metadata": {},
   "outputs": [
    {
     "ename": "SyntaxError",
     "evalue": "invalid syntax (<ipython-input-1-5f0c931133e0>, line 39)",
     "output_type": "error",
     "traceback": [
      "\u001b[1;36m  File \u001b[1;32m\"<ipython-input-1-5f0c931133e0>\"\u001b[1;36m, line \u001b[1;32m39\u001b[0m\n\u001b[1;33m    def robot_base_tilting(q):->theta\u001b[0m\n\u001b[1;37m                              ^\u001b[0m\n\u001b[1;31mSyntaxError\u001b[0m\u001b[1;31m:\u001b[0m invalid syntax\n"
     ]
    }
   ],
   "source": [
    "import numpy as np\n",
    "import scipy.optimize\n",
    "from typing import Any, Optional, Sequence, Sized, Union\n",
    "from pybotics.geometry import vector_2_matrix\n",
    "from pybotics.predefined_models import ur10\n",
    "from pybotics.robot import Robot\n",
    "from pybotics.tool import Tool\n",
    "from pybotics.kinematic_chain import KinematicChain, MDHKinematicChain\n",
    "\n",
    "def kuka_90_R3100()-> np.ndarray:\n",
    "    return np.array(\n",
    "        [\n",
    "            [0, 0, 0, 675],\n",
    "            [np.pi/2, 350, 0, 0],\n",
    "            [0, 1350, 0, 0],\n",
    "            [-np.pi/2, -41, 0, 1400],\n",
    "            [np.pi/2, 0, 0, 0],\n",
    "            [-np.pi/2, 0, 0, 215],\n",
    "        ]\n",
    "    )\n",
    "\n",
    "\n",
    "def rotation_axis0_y(theta:float)->np.ndarray:\n",
    "    s=np.sin(theta)\n",
    "    c=np.cos(theta)\n",
    "    matrix=np.array([[c,0,-s,0],\n",
    "                     [0,1,0,0],\n",
    "                     [s,0,c,0],\n",
    "                     [0,0,0,1],\n",
    "                    ])\n",
    "    return matrix \n",
    "\n",
    "def robot_base_tilting(q):->theta\n",
    "    pass\n",
    "\n",
    "def tortionstiffness(q):\n",
    "    pass\n",
    "\n",
    "def hysteresis(q):\n",
    "    pass\n",
    "\n",
    "\n",
    "def fk_modified(joints,robot):\n",
    "    theta=np.deg2rad(theta)\n",
    "    joints=np.deg2rad(joints)\n",
    "    theta=f(q)\n",
    "    pose=np.dot(rotation_axis0_y(theta),robot.fk(joints))\n",
    "    \n",
    "    pass\n",
    "    return pose \n",
    "\n",
    "\n",
    "\n",
    "\n",
    "\n",
    "def ik_modified(pose,robot,theta):\n",
    "    x0 = self.joints if q is None else q\n",
    "    result = scipy.optimize.least_squares(\n",
    "        fun=_ik_cost_function, x0=x0, bounds=self.joint_limits, args=(pose, self)\n",
    "        )  # type: scipy.optimize.OptimizeResult\n",
    "\n",
    "    if result.success:  # pragma: no cover\n",
    "        actual_pose = self.fk(result.x)\n",
    "        if np.allclose(actual_pose, pose, atol=1e-3):\n",
    "            return result.x\n",
    "    return None\n",
    "\n",
    " \n",
    "def _ik_cost_function(pose,q,robot):\n",
    "    current_pose=fk_modified()\n",
    "    diff=np.abs(current_pose-pose)\n",
    "    return diff.ravel\n",
    "\n",
    "kuka = Robot.from_parameters(kuka_90_R3100())\n",
    "joint=[1,2,3,4,5,6]\n",
    "pose=fk_modified(0.1,joint,kuka)\n",
    "pose\n"
   ]
  },
  {
   "cell_type": "code",
   "execution_count": 2,
   "metadata": {},
   "outputs": [
    {
     "ename": "NameError",
     "evalue": "name 'Robot' is not defined",
     "output_type": "error",
     "traceback": [
      "\u001b[1;31m---------------------------------------------------------------------------\u001b[0m",
      "\u001b[1;31mNameError\u001b[0m                                 Traceback (most recent call last)",
      "\u001b[1;32m<ipython-input-2-4edb50b33fef>\u001b[0m in \u001b[0;36m<module>\u001b[1;34m\u001b[0m\n\u001b[1;32m----> 1\u001b[1;33m \u001b[0mkuka\u001b[0m \u001b[1;33m=\u001b[0m \u001b[0mRobot\u001b[0m\u001b[1;33m.\u001b[0m\u001b[0mfrom_parameters\u001b[0m\u001b[1;33m(\u001b[0m\u001b[0mkuka_90_R3100\u001b[0m\u001b[1;33m(\u001b[0m\u001b[1;33m)\u001b[0m\u001b[1;33m)\u001b[0m\u001b[1;33m\u001b[0m\u001b[1;33m\u001b[0m\u001b[0m\n\u001b[0m\u001b[0;32m      2\u001b[0m \u001b[0mjoint\u001b[0m\u001b[1;33m=\u001b[0m\u001b[1;33m[\u001b[0m\u001b[1;36m1\u001b[0m\u001b[1;33m,\u001b[0m\u001b[1;36m2\u001b[0m\u001b[1;33m,\u001b[0m\u001b[1;36m3\u001b[0m\u001b[1;33m,\u001b[0m\u001b[1;36m4\u001b[0m\u001b[1;33m,\u001b[0m\u001b[1;36m5\u001b[0m\u001b[1;33m,\u001b[0m\u001b[1;36m6\u001b[0m\u001b[1;33m]\u001b[0m\u001b[1;33m\u001b[0m\u001b[1;33m\u001b[0m\u001b[0m\n\u001b[0;32m      3\u001b[0m \u001b[0mpose\u001b[0m\u001b[1;33m=\u001b[0m\u001b[0mfk_modified\u001b[0m\u001b[1;33m(\u001b[0m\u001b[1;36m0.1\u001b[0m\u001b[1;33m,\u001b[0m\u001b[0mjoint\u001b[0m\u001b[1;33m,\u001b[0m\u001b[0mkuka\u001b[0m\u001b[1;33m)\u001b[0m\u001b[1;33m\u001b[0m\u001b[1;33m\u001b[0m\u001b[0m\n\u001b[0;32m      4\u001b[0m \u001b[0mpose\u001b[0m\u001b[1;33m\u001b[0m\u001b[1;33m\u001b[0m\u001b[0m\n",
      "\u001b[1;31mNameError\u001b[0m: name 'Robot' is not defined"
     ]
    }
   ],
   "source": [
    "kuka = Robot.from_parameters(kuka_90_R3100())\n",
    "joint=[1,2,3,4,5,6]\n",
    "pose=fk_modified(0.1,joint,kuka)\n",
    "pose"
   ]
  },
  {
   "cell_type": "code",
   "execution_count": 49,
   "metadata": {},
   "outputs": [
    {
     "name": "stdout",
     "output_type": "stream",
     "text": [
      "Robot Joints: [0.         0.08726646 0.         0.         0.         0.12217305]\n",
      "Joint Torques: [ 2.23454231e-15  1.30900000e+04 -4.10000000e+02  0.00000000e+00\n",
      "  0.00000000e+00  0.00000000e+00]\n"
     ]
    }
   ],
   "source": [
    "forces = [0, 0, 10]\n",
    "torques = [0, 0, 0]\n",
    "wrench = [*forces, *torques]\n",
    "kuka.joints = np.deg2rad([0, 5, 0, 0, 0, 7])\n",
    "j_torques = kuka.compute_joint_torques(wrench)\n",
    "print(f'Robot Joints: {kuka.joints}')\n",
    "print(f'Joint Torques: {j_torques}')\n"
   ]
  },
  {
   "cell_type": "code",
   "execution_count": 51,
   "metadata": {},
   "outputs": [],
   "source": [
    "def compute_g_torques(mass:Sequence[float],mass_center:Sequence[float],q:Sequence[float])->Sequence:\n",
    "    g=9.81 #gravity \n",
    "    g_mass=mass*g\n",
    "    pass\n",
    "    \n",
    "    \n",
    "    "
   ]
  }
 ],
 "metadata": {
  "kernelspec": {
   "display_name": "Python 3",
   "language": "python",
   "name": "python3"
  },
  "language_info": {
   "codemirror_mode": {
    "name": "ipython",
    "version": 3
   },
   "file_extension": ".py",
   "mimetype": "text/x-python",
   "name": "python",
   "nbconvert_exporter": "python",
   "pygments_lexer": "ipython3",
   "version": "3.8.5"
  }
 },
 "nbformat": 4,
 "nbformat_minor": 4
}
